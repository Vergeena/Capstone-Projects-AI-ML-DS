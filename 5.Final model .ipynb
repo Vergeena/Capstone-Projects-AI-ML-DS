{
 "cells": [
  {
   "cell_type": "code",
   "execution_count": 1,
   "id": "e6e6fc42",
   "metadata": {},
   "outputs": [],
   "source": [
    "import pickle"
   ]
  },
  {
   "cell_type": "code",
   "execution_count": 2,
   "id": "387f4a6f",
   "metadata": {},
   "outputs": [],
   "source": [
    "# best model\n",
    "filename = \"SVR_Asthma_finalmodel.sav\""
   ]
  },
  {
   "cell_type": "code",
   "execution_count": 3,
   "id": "a0c75e72",
   "metadata": {},
   "outputs": [],
   "source": [
    "# Load the saved model\n",
    "loaded_model = pickle.load(open(filename, 'rb'))"
   ]
  },
  {
   "cell_type": "code",
   "execution_count": 5,
   "id": "98a41bda",
   "metadata": {},
   "outputs": [
    {
     "name": "stdout",
     "output_type": "stream",
     "text": [
      "Age: 55\n",
      "Gender (0 for Female, 1 for Male): 1\n",
      "BMI: 35.4\n",
      "Smoking (0 or 1): 1\n",
      "PollutionExposure: 2.8\n",
      "DustExposure: 1.6\n",
      "PetAllergy: 0\n",
      "FamilyHistoryAsthma: 1\n",
      "LungFunctionFEV1 (LF): 1.5\n",
      "Wheezing:1\n",
      "ShortnessOfBreath:0\n",
      "ChestTightness: 1\n",
      "Coughing: 1\n",
      "Diagnosis: 1\n"
     ]
    },
    {
     "name": "stderr",
     "output_type": "stream",
     "text": [
      "C:\\Anaconda\\envs\\ai\\lib\\site-packages\\sklearn\\base.py:451: UserWarning: X does not have valid feature names, but SVR was fitted with feature names\n",
      "  \"X does not have valid feature names, but\"\n"
     ]
    }
   ],
   "source": [
    "def get_reg_prediction(prediction):\n",
    "    return \"Yes\" if prediction == 1 else \"No\"\n",
    "\n",
    "# Example input values (replace these with your actual input mechanism)\n",
    "Age= float(input(\"Age: \"))\n",
    "Gender = float(input(\"Gender (0 for Female, 1 for Male): \"))\n",
    "BMI=float(input(\"BMI: \"))\n",
    "Smoking = float(input(\"Smoking (0 or 1): \"))\n",
    "PollutionExposure=float(input(\"PollutionExposure: \"))\n",
    "DustExposure=float(input(\"DustExposure: \"))\n",
    "PetAllergy=float(input(\"PetAllergy: \"))\n",
    "FamilyHistoryAsthma = float(input(\"FamilyHistoryAsthma: \"))\n",
    "LungFunctionFEV1 = float(input(\"LungFunctionFEV1 (LF): \"))\n",
    "Wheezing=float(input(\"Wheezing:\"))\n",
    "ShortnessOfBreath=float(input(\"ShortnessOfBreath:\"))\n",
    "ChestTightness=float(input(\"ChestTightness: \"))\n",
    "Coughing=float(input(\"Coughing: \"))\n",
    "Diagnosis=float(input(\"Diagnosis: \"))\n",
    "    \n",
    "# Assume you have loaded_model and it's already trained and loaded\n",
    "\n",
    "# Predict the numerical outcome related to asthma\n",
    "future_prediction = loaded_model.predict([[Age,Gender,BMI,Smoking,\n",
    "                                           PollutionExposure,DustExposure,PetAllergy,FamilyHistoryAsthma,\n",
    "                                           LungFunctionFEV1,Wheezing,ShortnessOfBreath,ChestTightness,Coughing,Diagnosis]])\n"
   ]
  },
  {
   "cell_type": "code",
   "execution_count": 7,
   "id": "bf9cc367",
   "metadata": {},
   "outputs": [
    {
     "name": "stdout",
     "output_type": "stream",
     "text": [
      "Predicted outcome related to asthma: 0.9287762794369162\n"
     ]
    }
   ],
   "source": [
    "# Print or use the numerical prediction directly\n",
    "print(\"Predicted outcome related to asthma:\",(future_prediction[0]))"
   ]
  },
  {
   "cell_type": "code",
   "execution_count": 8,
   "id": "be879036",
   "metadata": {},
   "outputs": [
    {
     "name": "stdout",
     "output_type": "stream",
     "text": [
      "Future Prediction (Treatment Required): No\n"
     ]
    }
   ],
   "source": [
    "# Print the categorical prediction\n",
    "future_prediction_reg=get_reg_prediction(future_prediction[0])\n",
    "print(\"Future Prediction (Treatment Required):\",future_prediction_reg)"
   ]
  },
  {
   "cell_type": "code",
   "execution_count": null,
   "id": "c4d57fed",
   "metadata": {},
   "outputs": [],
   "source": []
  }
 ],
 "metadata": {
  "kernelspec": {
   "display_name": "Python 3 (ipykernel)",
   "language": "python",
   "name": "python3"
  },
  "language_info": {
   "codemirror_mode": {
    "name": "ipython",
    "version": 3
   },
   "file_extension": ".py",
   "mimetype": "text/x-python",
   "name": "python",
   "nbconvert_exporter": "python",
   "pygments_lexer": "ipython3",
   "version": "3.7.6"
  }
 },
 "nbformat": 4,
 "nbformat_minor": 5
}
